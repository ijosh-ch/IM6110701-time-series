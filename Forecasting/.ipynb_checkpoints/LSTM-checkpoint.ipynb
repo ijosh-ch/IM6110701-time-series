{
 "cells": [
  {
   "metadata": {},
   "cell_type": "markdown",
   "source": "<center>TW50 LSTM Forecasting</center>\n",
   "id": "86b74689e65dc129"
  },
  {
   "metadata": {},
   "cell_type": "markdown",
   "source": "",
   "id": "e2125b6ba4556b89"
  },
  {
   "metadata": {
    "ExecuteTime": {
     "end_time": "2024-04-25T16:04:03.956449Z",
     "start_time": "2024-04-25T16:04:03.928399Z"
    }
   },
   "cell_type": "code",
   "source": [
    "import pandas as pd\n",
    "import numpy as np\n",
    "from sklearn.preprocessing import MinMaxScaler\n",
    "from tensorflow.keras.models import Sequential\n",
    "from tensorflow.keras.layers import LSTM, Dropout, Dense\n",
    "from datetime import datetime, timedelta\n",
    "\n",
    "# Step 1: Load and Prepare the Data\n",
    "file_path = \"../TW50.csv\"\n",
    "df = pd.read_csv(file_path, usecols=['Date', 'Price Index'])\n",
    "df['Date'] = pd.to_datetime(df['Date'])\n",
    "df.set_index('Date', inplace=True)\n",
    "scaler = MinMaxScaler()\n",
    "df['Price Index'] = scaler.fit_transform(df[['Price Index']])\n",
    "\n",
    "# Remove rows with NaN values\n",
    "df = df.dropna()\n",
    "\n",
    "df"
   ],
   "id": "e777fbe55d50288e",
   "outputs": [
    {
     "data": {
      "text/plain": [
       "            Price Index\n",
       "Date                   \n",
       "2019-04-25     0.154033\n",
       "2019-04-26     0.145847\n",
       "2019-04-29     0.147377\n",
       "2019-04-30     0.147603\n",
       "2019-05-02     0.149756\n",
       "...                 ...\n",
       "2024-04-19     0.866237\n",
       "2024-04-22     0.858038\n",
       "2024-04-23     0.874643\n",
       "2024-04-24     0.926403\n",
       "2024-04-25     0.895708\n",
       "\n",
       "[1219 rows x 1 columns]"
      ],
      "text/html": [
       "<div>\n",
       "<style scoped>\n",
       "    .dataframe tbody tr th:only-of-type {\n",
       "        vertical-align: middle;\n",
       "    }\n",
       "\n",
       "    .dataframe tbody tr th {\n",
       "        vertical-align: top;\n",
       "    }\n",
       "\n",
       "    .dataframe thead th {\n",
       "        text-align: right;\n",
       "    }\n",
       "</style>\n",
       "<table border=\"1\" class=\"dataframe\">\n",
       "  <thead>\n",
       "    <tr style=\"text-align: right;\">\n",
       "      <th></th>\n",
       "      <th>Price Index</th>\n",
       "    </tr>\n",
       "    <tr>\n",
       "      <th>Date</th>\n",
       "      <th></th>\n",
       "    </tr>\n",
       "  </thead>\n",
       "  <tbody>\n",
       "    <tr>\n",
       "      <th>2019-04-25</th>\n",
       "      <td>0.154033</td>\n",
       "    </tr>\n",
       "    <tr>\n",
       "      <th>2019-04-26</th>\n",
       "      <td>0.145847</td>\n",
       "    </tr>\n",
       "    <tr>\n",
       "      <th>2019-04-29</th>\n",
       "      <td>0.147377</td>\n",
       "    </tr>\n",
       "    <tr>\n",
       "      <th>2019-04-30</th>\n",
       "      <td>0.147603</td>\n",
       "    </tr>\n",
       "    <tr>\n",
       "      <th>2019-05-02</th>\n",
       "      <td>0.149756</td>\n",
       "    </tr>\n",
       "    <tr>\n",
       "      <th>...</th>\n",
       "      <td>...</td>\n",
       "    </tr>\n",
       "    <tr>\n",
       "      <th>2024-04-19</th>\n",
       "      <td>0.866237</td>\n",
       "    </tr>\n",
       "    <tr>\n",
       "      <th>2024-04-22</th>\n",
       "      <td>0.858038</td>\n",
       "    </tr>\n",
       "    <tr>\n",
       "      <th>2024-04-23</th>\n",
       "      <td>0.874643</td>\n",
       "    </tr>\n",
       "    <tr>\n",
       "      <th>2024-04-24</th>\n",
       "      <td>0.926403</td>\n",
       "    </tr>\n",
       "    <tr>\n",
       "      <th>2024-04-25</th>\n",
       "      <td>0.895708</td>\n",
       "    </tr>\n",
       "  </tbody>\n",
       "</table>\n",
       "<p>1219 rows × 1 columns</p>\n",
       "</div>"
      ]
     },
     "execution_count": 3,
     "metadata": {},
     "output_type": "execute_result"
    }
   ],
   "execution_count": 3
  },
  {
   "metadata": {},
   "cell_type": "code",
   "outputs": [],
   "execution_count": null,
   "source": "",
   "id": "ee837b69027fee2e"
  }
 ],
 "metadata": {
  "kernelspec": {
   "display_name": "Python 3",
   "language": "python",
   "name": "python3"
  },
  "language_info": {
   "codemirror_mode": {
    "name": "ipython",
    "version": 2
   },
   "file_extension": ".py",
   "mimetype": "text/x-python",
   "name": "python",
   "nbconvert_exporter": "python",
   "pygments_lexer": "ipython2",
   "version": "2.7.6"
  }
 },
 "nbformat": 4,
 "nbformat_minor": 5
}
